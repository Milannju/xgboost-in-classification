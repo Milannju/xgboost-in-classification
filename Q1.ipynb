{
 "cells": [
  {
   "cell_type": "code",
   "execution_count": 450,
   "metadata": {},
   "outputs": [],
   "source": [
    "from __future__ import division  \n",
    "import pandas as pd\n",
    "import math\n",
    "import numpy as np\n",
    "from sklearn.neighbors import KNeighborsClassifier\n",
    "from sklearn.model_selection import KFold \n",
    "import xgboost as xgb  \n",
    "from collections import Counter\n",
    "import matplotlib.pyplot as plt\n",
    "from sklearn.neighbors import LocalOutlierFactor"
   ]
  },
  {
   "cell_type": "markdown",
   "metadata": {},
   "source": [
    "## data processing"
   ]
  },
  {
   "cell_type": "code",
   "execution_count": 121,
   "metadata": {},
   "outputs": [],
   "source": [
    "Features = pd.read_csv('./dataset/TrainFeatures.csv')\n",
    "Labels = pd.read_csv('./dataset/TrainLabel.csv')\n",
    "video_info = pd.read_csv('./dataset/VideoInfo.csv')\n",
    "features_test = pd.read_csv('./dataset/TestFeatures.csv')"
   ]
  },
  {
   "cell_type": "code",
   "execution_count": 127,
   "metadata": {},
   "outputs": [],
   "source": [
    "def Eventype2EventColumn(features, label = None):\n",
    "\n",
    "    Event_type = list(set(features['event_type']))\n",
    "    User_id = list(set(features['user_id']))\n",
    "    \n",
    "    user_event = features.groupby(['user_id', 'event_type']).count()\n",
    "    \n",
    "    user_event_count = user_event.reset_index().iloc[:, 0:3]\n",
    "    user_event_df = pd.DataFrame(np.zeros([len(User_id), len(Event_type)]), index = User_id, columns = Event_type)\n",
    " #   print len(user_event_df)\n",
    "    for user in User_id:\n",
    "        for event in Event_type:\n",
    "            if event in list(user_event_count[user_event_count.user_id == user].event_type):\n",
    "                user_event_df.loc[user][event] = user_event_count[user_event_count.user_id == user][user_event_count.event_type == event].video_id\n",
    "            else:\n",
    "                user_event_df.loc[user][event] = 0\n",
    "    user_event_df = user_event_df.reset_index()\n",
    "    \n",
    "    if label is None:\n",
    "        output = user_event_df\n",
    "    else:\n",
    "        output = user_event_df.merge(label, left_on='index', right_on='user_id')\n",
    "    \n",
    "    return output"
   ]
  },
  {
   "cell_type": "code",
   "execution_count": 211,
   "metadata": {},
   "outputs": [],
   "source": [
    "#add video number as the feature\n",
    "def Eventype2ColumnWithVideo(features, label = None):\n",
    "    \n",
    "    Event_type = list(set(features['event_type']))\n",
    "    User_id = list(set(features['user_id']))\n",
    "    \n",
    "    #Count the the number of each event type for each user\n",
    "    user_event = features.groupby(['user_id', 'event_type']).count()\n",
    "    #Count how many videos \n",
    "    user_video = features.groupby(['user_id']).agg({'video_id':lambda x:np.unique(x).shape[0]}).reset_index()\n",
    "\n",
    "    user_event_count = user_event.reset_index().iloc[:, 0:3]\n",
    "    user_event_df = pd.DataFrame(np.zeros([len(User_id), len(Event_type)]), index = User_id, columns = Event_type)\n",
    "\n",
    "    for user in User_id:\n",
    "        for event in Event_type:\n",
    "            if event in list(user_event_count[user_event_count.user_id == user].event_type):\n",
    "                user_event_df.loc[user][event] = user_event_count[user_event_count.user_id == user][user_event_count.event_type == event].video_id\n",
    "            else:\n",
    "                user_event_df.loc[user][event] = 0\n",
    "    user_event_df = user_event_df.reset_index()\n",
    "    \n",
    "    user_event_video = user_event_df.merge(user_video, left_on='index', right_on='user_id')  \n",
    "    user_event_video.pop('user_id')\n",
    "\n",
    "\n",
    "\n",
    "    \n",
    "    if label is None:\n",
    "        output = user_event_video\n",
    "    else:\n",
    "        output = user_event_video.merge(label, left_on='index', right_on='user_id')\n",
    "    \n",
    "    return output"
   ]
  },
  {
   "cell_type": "code",
   "execution_count": 134,
   "metadata": {},
   "outputs": [
    {
     "name": "stdout",
     "output_type": "stream",
     "text": [
      "5050\n"
     ]
    },
    {
     "name": "stderr",
     "output_type": "stream",
     "text": [
      "/Users/milan/Desktop/My_python/my_project/lib/python2.7/site-packages/ipykernel_launcher.py:14: UserWarning: Boolean Series key will be reindexed to match DataFrame index.\n",
      "  \n"
     ]
    },
    {
     "name": "stdout",
     "output_type": "stream",
     "text": [
      "1293\n",
      "CPU times: user 7min 47s, sys: 4.04 s, total: 7min 51s\n",
      "Wall time: 11min 2s\n"
     ]
    }
   ],
   "source": [
    "%%time\n",
    "Train_user_event = Eventype2EventColumn(features, labels)\n",
    "Test_user_event = Eventype2EventColumn(features_test)"
   ]
  },
  {
   "cell_type": "code",
   "execution_count": 212,
   "metadata": {},
   "outputs": [
    {
     "name": "stderr",
     "output_type": "stream",
     "text": [
      "/Users/milan/Desktop/My_python/my_project/lib/python2.7/site-packages/ipykernel_launcher.py:18: UserWarning: Boolean Series key will be reindexed to match DataFrame index.\n"
     ]
    },
    {
     "name": "stdout",
     "output_type": "stream",
     "text": [
      "CPU times: user 4min 15s, sys: 1.14 s, total: 4min 16s\n",
      "Wall time: 4min 17s\n"
     ]
    }
   ],
   "source": [
    "%%time\n",
    "Train_user_event_video = Eventype2ColumnWithVideo(Features, Labels)\n",
    "Test_user_event_video = Eventype2ColumnWithVideo(features_test)"
   ]
  },
  {
   "cell_type": "markdown",
   "metadata": {},
   "source": [
    "- Feature generation"
   ]
  },
  {
   "cell_type": "code",
   "execution_count": 581,
   "metadata": {},
   "outputs": [
    {
     "data": {
      "text/plain": [
       "0       0005266eb37020aaa9d87eccc6d051b3\n",
       "1       00283999ebb74c7052f962400b51af1b\n",
       "2       003cb7ee2f970b407b0087075b41b608\n",
       "3       004cab314f7310363f7a802369867f9e\n",
       "4       006c65a0946666507fd85ad824ff5909\n",
       "5       0083870f576cd563ee5b19c97ef77a2c\n",
       "6       00a7076382b9970980e540230e0bf61f\n",
       "7       00ab1656a2996a97029c3fa7a7010498\n",
       "8       00afe3e30d052142dc018ef0e9ca7b30\n",
       "9       00c8744837dba943b3f1e8bad3791ab4\n",
       "10      00dfc0d6d770e90756b197e15fbd25ec\n",
       "11      00e757623c2382f0586b288d6cf76f7b\n",
       "12      00f6c7661b7e1e8c95abd2c87784f655\n",
       "13      00fdd7d3317a68e25c92a594095fff3e\n",
       "14      0103a6b803a6f8f038b02f2d266e8782\n",
       "15      0104411bee20fcbd6e67a3f00ca1b71d\n",
       "16      0108949af4e36933a9f1ed024618ff07\n",
       "17      0115d7d43aeafc0b56f7e5d05bc08aa8\n",
       "18      013212ec5b9431829dedc44d2300748f\n",
       "19      0136cb8515c3309f04f79131c5cd1d92\n",
       "20      013cd591e30b6cd7915683f28f0e13aa\n",
       "21      013ee0cbdb6d463a565e18a87972d689\n",
       "22      0141fef25ed855ec48394b54b38a4228\n",
       "23      014dd064e97dfb912e6534629c659b75\n",
       "24      015d67c249745a320ad51361a329f124\n",
       "25      015defebfa592d9d71818e7d09b5193a\n",
       "26      01675400b1753ed8db03f42677aef9d9\n",
       "27      016c72dd5515b5beb4d6b17d3c19a106\n",
       "28      01722131aa16675639d3e2b4b3e4414d\n",
       "29      01895b7fac1df057fd9ceeb360302820\n",
       "                      ...               \n",
       "5020    fe92c36bf912c33df82c2867e0d11da6\n",
       "5021    feb4369a97b80e95c1f03e35f725d945\n",
       "5022    febe6ccdaf54398179e09d21abc6ff1b\n",
       "5023    fec80b14277571c2bc379837c1a9a278\n",
       "5024    fed3b7b311ef1dde48c04cb127891456\n",
       "5025    fef804130a7dc6e79111f9f233ced0e4\n",
       "5026    fefb84b64c8c88ce3ba43901f77f3218\n",
       "5027    ff0948692242d6de43ac0b3b1926d358\n",
       "5028    ff117229df98114e28228456250d8470\n",
       "5029    ff16e051182acdbd18e336a570d0b2c2\n",
       "5030    ff3aba3747df1ae8f6ff72a97ec4069c\n",
       "5031    ff495e1d1dfbc844fd4aeeb059647f58\n",
       "5032    ff588404e035f909f86082a5c26298eb\n",
       "5033    ff5b5da94856d0dd996c12495355001f\n",
       "5034    ff5b92dbf38a98695118fcc4d8ab4cf7\n",
       "5035    ff62c27dc1e6369db8130e4dc6afdea7\n",
       "5036    ff64afce767209bf1ec95a4beb774c3c\n",
       "5037    ff7c0bfaac4eb5c32eab4a31be7c95fa\n",
       "5038    ff886776b6400340b29724b5b33adb35\n",
       "5039    ff92ef02c61d396af758b8ce4e4661ba\n",
       "5040    ff930d24cbdeb11e6dde8ceb0da5ac64\n",
       "5041    ff9f9f316af0781ff7e4b018940a5077\n",
       "5042    ffa09bfdf674e7ee625e011a56a9399a\n",
       "5043    ffa8ae684c503575b4a34e0ffadf1150\n",
       "5044    ffae87dc29a7037fa0bc5a2646b78f2f\n",
       "5045    ffc6072e7f7d6914bf1190e70818c1d4\n",
       "5046    ffd00dcfc4325ba8247cc771f465b846\n",
       "5047    ffd3c5e349fa5745159deef163b5c253\n",
       "5048    ffede63a107d39b85b971e22c29d77ef\n",
       "5049    fff8406e7b47fcdfea71e0e12b74b0ec\n",
       "Name: index, Length: 5050, dtype: object"
      ]
     },
     "execution_count": 581,
     "metadata": {},
     "output_type": "execute_result"
    }
   ],
   "source": [
    "# For the train data\n",
    "# Merge the feature and article info into one table\n",
    "Feature_video = Features.merge(video_info)\n",
    "\n",
    "# Calculate the sum of duration grouped by session\n",
    "user_session_duration = Feature_video.groupby(['user_id','session'])['duration'].sum()\n",
    "user_session_duration = user_session_duration.reset_index()\n",
    "\n",
    "# Calculate the average sesson duraiton grouped by user_id\n",
    "user_SessionDuration = user_session_duration.groupby('user_id')['duration'].mean()\n",
    "user_SessionDuration = user_SessionDuration.reset_index()\n",
    "Train_user_event_video_SessionDuration = user_SessionDuration.merge(Train_user_event_video, left_on= 'user_id', right_on='index')\n",
    "Train_user_event_video_SessionDuration.pop('index')"
   ]
  },
  {
   "cell_type": "code",
   "execution_count": 583,
   "metadata": {},
   "outputs": [
    {
     "data": {
      "text/plain": [
       "0       00069663a97a439538d04d3a7cd659a1\n",
       "1       004fbc40e3999cb7575fce07a1fc8b7a\n",
       "2       00936d9181fad38deec90d2af5baf0a0\n",
       "3       00a98ff25199a9bab6cb5954be4f6d27\n",
       "4       00b59133ff74f750038ac45cc8ab190d\n",
       "5       00bdfdc3a749cb55e90f0c83ac90d167\n",
       "6       013278f30aedb03506b64363183fd4bb\n",
       "7       0181dbcc3606f670bbe50f984967f358\n",
       "8       01a14d039a010c3c0db13efe0ba578bb\n",
       "9       0227db897952e0792f6569b82d0b221b\n",
       "10      0278371473fc78507dd572c7673d8f56\n",
       "11      0286e056e2a4c074b7cb4312b8c2a368\n",
       "12      028f5d6790ac5657af475ebe01a56079\n",
       "13      02a46e617b989ae1da4de2876d5676f0\n",
       "14      02ce9f5db5d92069dd39df43a10faa4f\n",
       "15      02d016ff489b444e918a67d2fb4ccc10\n",
       "16      02e395caaa76c1b26158f18fc8343f38\n",
       "17      0305ebfffa18c5dd2bba6c7c4b5f8a86\n",
       "18      0328ebe83847d5fcae81bc55fa477c6a\n",
       "19      03290f49f5780f5141cdbd507bf26357\n",
       "20      03ce0f922f9ce7877e57bcdccbc9c8b4\n",
       "21      0425ec756d3d6746c5a4c2305d56166d\n",
       "22      0493d4b78d9aaf82a87ac0838a4c03d9\n",
       "23      049959a885168c0c9ee3efbb6919c4a2\n",
       "24      04c853120233cacd1f5ffda8e98038d6\n",
       "25      04ef272d6547c6cbad29ac9042d37200\n",
       "26      050627f20bb3ff887ad955ef09c17259\n",
       "27      051d8791f4b05c334ea177f7c56e6951\n",
       "28      057f8cede8469855e62f4154c2eae1fc\n",
       "29      0597d9cc6d6a531cd0b552de0661c379\n",
       "                      ...               \n",
       "1263    fa620b2610242fcce575b279fd8f4892\n",
       "1264    faa6a0d36cb2c33d9bb742d59617d392\n",
       "1265    fab17de33f7a647d7abaa44c58a4372e\n",
       "1266    fab6e4f14321ce27d84925bc5ed49358\n",
       "1267    fb37bcb6c13988d481596926f33dbc2d\n",
       "1268    fb503ce6ce0249d4e6f58e55c764c90c\n",
       "1269    fb71389dfb1bbacef51ebb737d713266\n",
       "1270    fba2341ba8d4284dec542c8554a11f41\n",
       "1271    fbeb82de77b72c5e5d710783032ea594\n",
       "1272    fbf4d9f8b84154afe1f55a63a1359bff\n",
       "1273    fc930ca96e291e56b8119d80591fc459\n",
       "1274    fca2e9bca58dbf72616470e177ffe72c\n",
       "1275    fcbee6ab5decc1a098af13544f2934c3\n",
       "1276    fcdf0c62a8ebd3c06235945ded06f7b0\n",
       "1277    fce0e51b10d7f4efe24277dda4ac647a\n",
       "1278    fcf80066da04ef24437a8db61bf3e1c0\n",
       "1279    fd035a46ae5bad60ba566f8c5a29b4fc\n",
       "1280    fd7bd45123ac3473e0985abe21288716\n",
       "1281    fdb1e8be7026f3dfc84f7ff5ec5a176e\n",
       "1282    fdbcea7212595407ba30078ae59e134d\n",
       "1283    fdcbf7807bb3481f58381a8d793f55e0\n",
       "1284    fe0e7e04f506e825f16c86524dd70107\n",
       "1285    fe1e8f849148b99ab30f93c9617d93a2\n",
       "1286    fe478d61222619432edc33461b020c57\n",
       "1287    fe4b37b4ae13d0fe55c5050b9a85fdf0\n",
       "1288    fe73f73dc432060495109fdc39beaf05\n",
       "1289    fe77ef6383231ece9c9464116f10c9a4\n",
       "1290    ff1e68e74c6b16a1a7b5d958b95e120c\n",
       "1291    ffa6e390474ae7cf59b4800221cace88\n",
       "1292    ffaa3ac32bdc5c22ca21e8b2d0e12ad3\n",
       "Name: index, Length: 1293, dtype: object"
      ]
     },
     "execution_count": 583,
     "metadata": {},
     "output_type": "execute_result"
    }
   ],
   "source": [
    "# For the test data\n",
    "# Merge the feature and article info into one table\n",
    "Feature_video_test = features_test.merge(video_info)\n",
    "\n",
    "# Calculate the sum of duration grouped by session\n",
    "user_session_duration_test = Feature_video_test.groupby(['user_id','session'])['duration'].sum()\n",
    "user_session_duration_test = user_session_duration_test.reset_index()\n",
    "\n",
    "# Calculate the average sesson duraiton grouped by user_id\n",
    "user_SessionDuration_test = user_session_duration_test.groupby('user_id')['duration'].mean()\n",
    "user_SessionDuration_test = user_SessionDuration_test.reset_index()\n",
    "\n",
    "# To slove the error: TypeError: type object argument after * must be a sequence, not generator\n",
    "Test_user_event_video['index'] = Test_user_event_video['index'].apply(bytes)\n",
    "user_SessionDuration_test['user_id'] = user_SessionDuration_test['user_id'].apply(bytes)\n",
    "\n",
    "Test_user_event_video_SessionDuration = user_SessionDuration_test.merge(Test_user_event_video, left_on= 'user_id', right_on='index', how = 'outer')\n",
    "Test_user_event_video_SessionDuration.pop('index')"
   ]
  },
  {
   "cell_type": "markdown",
   "metadata": {},
   "source": [
    "## Find out outliers "
   ]
  },
  {
   "cell_type": "code",
   "execution_count": 611,
   "metadata": {},
   "outputs": [],
   "source": [
    "def CleanOutliers(data,feature_num, n_neig, cont):\n",
    "    # Filter the column to calculate the outlier \n",
    "    X = data[data.grade == 0].iloc[:, 1:(1 + feature_num)]\n",
    "    # Define the parameter of outlier classifier \n",
    "    clf = LocalOutlierFactor(n_neighbors = n_neig, contamination = cont)\n",
    "    y_pred = clf.fit_predict(X)\n",
    "    y_pred_outliers_index = [index for index in range(len(y_pred)) if y_pred[index] == -1]\n",
    "    \n",
    "    #drop the outlier index\n",
    "    data_cleaned = data.drop(data.index[y_pred_outliers_index])\n",
    "    \n",
    "#     print '-------------------The outlier number is %s ------------------'%len(y_pred_outliers_index)\n",
    "    \n",
    "    return data_cleaned"
   ]
  },
  {
   "cell_type": "markdown",
   "metadata": {},
   "source": [
    "##  Baseline: KNN "
   ]
  },
  {
   "cell_type": "code",
   "execution_count": 503,
   "metadata": {},
   "outputs": [],
   "source": [
    "def CorrectRate(result, label):\n",
    "    error = 0\n",
    "    loss = 0\n",
    "    for i in range(len(result)):\n",
    "        if result[i] == label[i]:\n",
    "            error += 0\n",
    "        else:\n",
    "            if label[i] == 1:\n",
    "                loss += 1\n",
    "            error += 1\n",
    "#    print loss\n",
    "    return (1 - error / len(result))"
   ]
  },
  {
   "cell_type": "code",
   "execution_count": 666,
   "metadata": {},
   "outputs": [],
   "source": [
    "def cross_validation(data, labels, fold):#input should be list or array\n",
    "    \n",
    "    kf = KFold(n_splits = fold)\n",
    "    CR = 0\n",
    "    for train_idx, val_idx in kf.split(data):\n",
    "        \n",
    "        #with input is array\n",
    "        train_data = data[train_idx]\n",
    "        train_label = labels[train_idx]\n",
    "        test_data = data[val_idx]\n",
    "        test_label = labels[val_idx]\n",
    "        \n",
    "        \n",
    "        neighbor = KNeighborsClassifier(n_neighbors = 5)\n",
    "        #train process\n",
    "        \n",
    "        neighbor.fit(train_data, train_label)\n",
    "        test_result = neighbor.predict(test_data)\n",
    "\n",
    "\n",
    "        test_grade = list(test_label)\n",
    "        CR += CorrectRate(test_result, test_grade)\n",
    "\n",
    "        \n",
    "#         print '---------------------Cross Validation------------------'\n",
    "#         print 'Test result average: ',sum(test_result) / len(test_result)\n",
    "#         print 'Test label average: ',sum(test_grade) / len(test_grade)\n",
    "        \n",
    "#     print CR / 5\n",
    "    return CR / 5"
   ]
  },
  {
   "cell_type": "markdown",
   "metadata": {},
   "source": [
    "- Train KNN"
   ]
  },
  {
   "cell_type": "code",
   "execution_count": 667,
   "metadata": {},
   "outputs": [
    {
     "data": {
      "text/plain": [
       "0.8332673267326733"
      ]
     },
     "execution_count": 667,
     "metadata": {},
     "output_type": "execute_result"
    }
   ],
   "source": [
    "cross_validation(np.array(Train_user_event_video_clean.iloc[:, 1:8]),np.array(Train_user_event_video_clean.grade), 5)\n",
    "# cross_validation(np.array(Train_user_event_video.iloc[:, 1:8]),np.array(Train_user_event_video.grade), 5)\n",
    "# cross_validation(np.array(Train_video_event.iloc[:, 1:8]),np.array(Train_video_event.grade), 5)"
   ]
  },
  {
   "cell_type": "code",
   "execution_count": 612,
   "metadata": {},
   "outputs": [
    {
     "name": "stdout",
     "output_type": "stream",
     "text": [
      ">>>>>>>>>>>>>>>>>>>>>>>>>>contamination = 0.02 \n",
      ">>>>>>>>>>>>>>>>>>>>>>>>>>contamination = 0.04 \n",
      ">>>>>>>>>>>>>>>>>>>>>>>>>>contamination = 0.06 \n",
      ">>>>>>>>>>>>>>>>>>>>>>>>>>contamination = 0.08 \n",
      ">>>>>>>>>>>>>>>>>>>>>>>>>>contamination = 0.1 \n",
      ">>>>>>>>>>>>>>>>>>>>>>>>>>contamination = 0.12 \n",
      ">>>>>>>>>>>>>>>>>>>>>>>>>>contamination = 0.14 \n",
      ">>>>>>>>>>>>>>>>>>>>>>>>>>contamination = 0.16 \n",
      ">>>>>>>>>>>>>>>>>>>>>>>>>>contamination = 0.18 \n",
      ">>>>>>>>>>>>>>>>>>>>>>>>>>contamination = 0.2 \n",
      ">>>>>>>>>>>>>>>>>>>>>>>>>>contamination = 0.22 \n",
      ">>>>>>>>>>>>>>>>>>>>>>>>>>contamination = 0.24 \n",
      ">>>>>>>>>>>>>>>>>>>>>>>>>>contamination = 0.26 \n",
      ">>>>>>>>>>>>>>>>>>>>>>>>>>contamination = 0.28 \n",
      ">>>>>>>>>>>>>>>>>>>>>>>>>>contamination = 0.3 \n",
      ">>>>>>>>>>>>>>>>>>>>>>>>>>contamination = 0.32 \n",
      ">>>>>>>>>>>>>>>>>>>>>>>>>>contamination = 0.34 \n",
      ">>>>>>>>>>>>>>>>>>>>>>>>>>contamination = 0.36 \n",
      ">>>>>>>>>>>>>>>>>>>>>>>>>>contamination = 0.38 \n",
      ">>>>>>>>>>>>>>>>>>>>>>>>>>contamination = 0.4 \n",
      ">>>>>>>>>>>>>>>>>>>>>>>>>>contamination = 0.42 \n",
      ">>>>>>>>>>>>>>>>>>>>>>>>>>contamination = 0.44 \n",
      ">>>>>>>>>>>>>>>>>>>>>>>>>>contamination = 0.46 \n",
      ">>>>>>>>>>>>>>>>>>>>>>>>>>contamination = 0.48 \n",
      ">>>>>>>>>>>>>>>>>>>>>>>>>>contamination = 0.5 \n"
     ]
    },
    {
     "data": {
      "image/png": "[encoded data removed]",
      "text/plain": [
       "<matplotlib.figure.Figure at 0x11df0b590>"
      ]
     },
     "metadata": {},
     "output_type": "display_data"
    }
   ],
   "source": [
    "# Find out the most suitable number of outliers\n",
    "Accurancy = []\n",
    "\n",
    "Cont_range = [0.02, 0.04, 0.06, 0.08, 0.1, 0.12, 0.14, 0.16, 0.18, 0.2, 0.22, 0.24, 0.26, 0.28, 0.3, 0.32, 0.34, 0.36, 0.38, 0.4, 0.42, 0.44, 0.46, 0.48, 0.5]\n",
    "\n",
    "for cont in Cont_range:\n",
    "    print '>>>>>>>>>>>>>>>>>>>>>>>>>>contamination = %s '%cont\n",
    "    \n",
    "    Train_user_event_video_SessionDuration_clean = CleanOutliers(Train_user_event_video_SessionDuration, 8, 20, cont)\n",
    "    cross_validation(np.array(Train_user_event_video_SessionDuration_clean.iloc[:, 1:8]),np.array(Train_user_event_video_SessionDuration_clean.grade), 5)\n",
    "\n",
    "\n",
    "    accurancy = cross_validation(np.array(Train_user_event_video_clean.iloc[:, 1:8]),np.array(Train_user_event_video_SessionDuration_clean.grade), 5)\n",
    "    Accurancy.append(accurancy)\n",
    "\n",
    "plt.plot(Cont_range, Accurancy)\n",
    "plt.show()"
   ]
  },
  {
   "cell_type": "markdown",
   "metadata": {},
   "source": [
    "- Test in KNN"
   ]
  },
  {
   "cell_type": "code",
   "execution_count": 619,
   "metadata": {},
   "outputs": [
    {
     "name": "stdout",
     "output_type": "stream",
     "text": [
      "0.092034029389\n"
     ]
    }
   ],
   "source": [
    "neighbor = KNeighborsClassifier(n_neighbors = 5)\n",
    "#train process\n",
    "Train_user_event_video_SessionDuration_clean = CleanOutliers(Train_user_event_video_SessionDuration, 8, 10, 0.02)\n",
    "neighbor.fit(Train_user_event_video_SessionDuration_clean.iloc[:, 1:9], Train_user_event_video_SessionDuration_clean.grade)\n",
    "test_result = neighbor.predict(Test_user_event_video_SessionDuration.iloc[:,1:9])\n",
    "\n",
    "print sum(test_result) / len(test_result)"
   ]
  },
  {
   "cell_type": "markdown",
   "metadata": {},
   "source": [
    "## XGBoost"
   ]
  },
  {
   "cell_type": "code",
   "execution_count": 672,
   "metadata": {},
   "outputs": [],
   "source": [
    "def xgboost(train_data, train_label, test_data, test_label = None):\n",
    "    \n",
    "    dtrain = xgb.DMatrix(train_data, label = train_label)\n",
    "    if test_label is None:\n",
    "        dtest = xgb.DMatrix(test_data)\n",
    "        # specify validations set to watch performance \n",
    "        watchlist  = [(dtrain,'train')] \n",
    "    else:\n",
    "        dtest = xgb.DMatrix(test_data, label = test_label)\n",
    "        labels = dtest.get_label()\n",
    "        watchlist  = [(dtest,'eval'), (dtrain,'train')] \n",
    "        \n",
    "    # Use map to define the parameter \n",
    "    param = {'max_depth':15, 'eta':0.2, 'silent':0, 'objective':'binary:logistic','min_child_weight':3,'gamma':15 }       \n",
    "    # watchlist  = [(dtrain,'train')]  \n",
    "    num_round = 30\n",
    "    \n",
    "#     bst = xgb.train(param, dtrain, num_round, watchlist)  \n",
    "    bst = xgb.train(param, dtrain, num_round)  \n",
    "\n",
    "    # this is prediction  \n",
    "    preds = bst.predict(dtest)  \n",
    "    preds = [int(preds[i]>0.5) for i in range(len(preds))]\n",
    "   \n",
    "    if test_label is None:\n",
    "        return preds    \n",
    "    else:\n",
    "         #calculate the TP, TN, FP, FN\n",
    "        TP = len([[preds[i]] for i in range(len(preds)) if preds[i]>0.5 and int(preds[i]>0.5)==labels[i]])\n",
    "        FP = len([[preds[i]] for i in range(len(preds)) if preds[i]>0.5 and int(preds[i]>0.5)!=labels[i]])\n",
    "        TN = len([[preds[i]] for i in range(len(preds)) if preds[i]<=0.5 and int(preds[i]>0.5)==labels[i]])\n",
    "        FN = len([[preds[i]] for i in range(len(preds)) if preds[i]<=0.5 and int(preds[i]>0.5)!=labels[i]])\n",
    "        \n",
    "        return ((FP + FN) / len(preds)), ((TP + TN) / len(preds)), (TP / (TP + FP)), (TP / (TP + FN))\n",
    "            "
   ]
  },
  {
   "cell_type": "code",
   "execution_count": 673,
   "metadata": {},
   "outputs": [
    {
     "name": "stdout",
     "output_type": "stream",
     "text": [
      ">>>>>>>>>>>>>>>>>>>>>>>>>>contamination = 0.02 \n",
      ">>>>>>>>>>>>>>>>>>>>>>>>>>contamination = 0.04 \n",
      ">>>>>>>>>>>>>>>>>>>>>>>>>>contamination = 0.06 \n",
      ">>>>>>>>>>>>>>>>>>>>>>>>>>contamination = 0.08 \n",
      ">>>>>>>>>>>>>>>>>>>>>>>>>>contamination = 0.1 \n",
      ">>>>>>>>>>>>>>>>>>>>>>>>>>contamination = 0.12 \n",
      ">>>>>>>>>>>>>>>>>>>>>>>>>>contamination = 0.14 \n",
      ">>>>>>>>>>>>>>>>>>>>>>>>>>contamination = 0.16 \n",
      ">>>>>>>>>>>>>>>>>>>>>>>>>>contamination = 0.18 \n",
      ">>>>>>>>>>>>>>>>>>>>>>>>>>contamination = 0.2 \n",
      ">>>>>>>>>>>>>>>>>>>>>>>>>>contamination = 0.22 \n",
      ">>>>>>>>>>>>>>>>>>>>>>>>>>contamination = 0.24 \n",
      ">>>>>>>>>>>>>>>>>>>>>>>>>>contamination = 0.26 \n",
      ">>>>>>>>>>>>>>>>>>>>>>>>>>contamination = 0.28 \n",
      ">>>>>>>>>>>>>>>>>>>>>>>>>>contamination = 0.3 \n",
      ">>>>>>>>>>>>>>>>>>>>>>>>>>contamination = 0.32 \n",
      ">>>>>>>>>>>>>>>>>>>>>>>>>>contamination = 0.34 \n",
      ">>>>>>>>>>>>>>>>>>>>>>>>>>contamination = 0.36 \n",
      ">>>>>>>>>>>>>>>>>>>>>>>>>>contamination = 0.38 \n",
      ">>>>>>>>>>>>>>>>>>>>>>>>>>contamination = 0.4 \n",
      ">>>>>>>>>>>>>>>>>>>>>>>>>>contamination = 0.42 \n",
      ">>>>>>>>>>>>>>>>>>>>>>>>>>contamination = 0.44 \n",
      ">>>>>>>>>>>>>>>>>>>>>>>>>>contamination = 0.46 \n",
      ">>>>>>>>>>>>>>>>>>>>>>>>>>contamination = 0.48 \n",
      ">>>>>>>>>>>>>>>>>>>>>>>>>>contamination = 0.5 \n"
     ]
    },
    {
     "data": {
      "image/png": "[encoded data removed]",
      "text/plain": [
       "<matplotlib.figure.Figure at 0x11c479cd0>"
      ]
     },
     "metadata": {},
     "output_type": "display_data"
    }
   ],
   "source": [
    "# Find out the most suitable number of outliers\n",
    "Error = []\n",
    "Accurancy = []\n",
    "Precision = []\n",
    "Recall = []\n",
    "\n",
    "kf = KFold(n_splits = 5)\n",
    "\n",
    "# Cont_range = [0.02, 0.04, 0.06, 0.08, 0.1, 0.12, 0.14, 0.16, 0.18, 0.2, 0.22, 0.24, 0.26]\n",
    "# Cont_range = [0.02, 0.04, 0.06, 0.08, 0.1, 0.12, 0.14, 0.16]\n",
    "# Cont_range = [0.02, 0.04, 0.06, 0.08, 0.1, 0.12, 0.14, 0.16, 0.18, 0.2, 0.22, 0.24, 0.26, 0.28, 0.3, 0.32, 0.34, 0.36, 0.38]\n",
    "\n",
    "\n",
    "Cont_range = [0.02, 0.04, 0.06, 0.08, 0.1, 0.12, 0.14, 0.16, 0.18, 0.2, 0.22, 0.24, 0.26, 0.28, 0.3, 0.32, 0.34, 0.36, 0.38, 0.4, 0.42, 0.44, 0.46, 0.48, 0.5]\n",
    "\n",
    "\n",
    "for cont in Cont_range:\n",
    "    \n",
    "    error, accurancy, precison, recall = 0, 0, 0, 0\n",
    "    \n",
    "    print '>>>>>>>>>>>>>>>>>>>>>>>>>>contamination = %s '%cont\n",
    "     \n",
    "    Train_user_event_video_SessionDuration_clean = CleanOutliers(Train_user_event_video_SessionDuration, 8, 20, cont)\n",
    "    data = np.array(Train_user_event_video_SessionDuration_clean.iloc[:, 1:9])\n",
    "    label = np.array(Train_user_event_video_SessionDuration_clean.grade)\n",
    "\n",
    "#     Train_video_event_clean = CleanOutliers(Train_video_event, 7, 20, cont)\n",
    "#     data = np.array(Train_video_event_clean.iloc[:, 1:8])\n",
    "#     label = np.array(Train_video_event_clean.grade)\n",
    "    \n",
    "    for train_idx, val_idx in kf.split(data):\n",
    "        \n",
    "        train_data = data[train_idx]\n",
    "        train_label = label[train_idx]\n",
    "        test_data = data[val_idx]\n",
    "        test_label = label[val_idx]\n",
    "        \n",
    "        e, a, p, r = xgboost(train_data, train_label, test_data, test_label)\n",
    "        \n",
    "        error += e\n",
    "        accurancy += a\n",
    "        precison +=p\n",
    "        recall += r\n",
    "    \n",
    "    Error.append(error / 5)\n",
    "    Accurancy.append(accurancy / 5)\n",
    "    Precision.append(precison / 5)\n",
    "    Recall.append(recall / 5)\n",
    "\n",
    "#     print 'error=%f' % error\n",
    "#     print 'Accurancy=%f' % accurancy \n",
    "#     print 'Precision=%f' % precison\n",
    "#     print 'Recall=%f' % recall\n",
    "\n",
    "plt.plot(Cont_range, Accurancy, Cont_range, Precision, Cont_range, Recall)\n",
    "plt.show()\n",
    "\n",
    "   \n",
    "#     del Train_user_event_video_SessionDuration_clean"
   ]
  },
  {
   "cell_type": "code",
   "execution_count": 674,
   "metadata": {},
   "outputs": [
    {
     "name": "stdout",
     "output_type": "stream",
     "text": [
      "error=0.125743\n",
      "Accurancy=0.874257\n",
      "Precision=0.709052\n",
      "Recall=0.643206\n"
     ]
    }
   ],
   "source": [
    "# Test on the whole dataset\n",
    "data_original = np.array(Train_user_event_video_SessionDuration.iloc[:, 1:9])\n",
    "label_original = np.array(Train_user_event_video_SessionDuration.grade)\n",
    "\n",
    "# data_original = np.array(Train_video_event.iloc[:, 1:8])\n",
    "# label_original = np.array(Train_video_event.grade)\n",
    "\n",
    "e, a, p, r = xgboost(train_data, train_label, data_original, label_original)\n",
    "print 'error=%f' % e\n",
    "print 'Accurancy=%f' % a \n",
    "print 'Precision=%f' % p\n",
    "print 'Recall=%f' % r\n"
   ]
  },
  {
   "cell_type": "code",
   "execution_count": 675,
   "metadata": {},
   "outputs": [],
   "source": [
    "# Predict the label of test user\n",
    "train_data = np.array(Train_user_event_video_SessionDuration_clean.iloc[:, 1:9])\n",
    "train_label = np.array(Train_user_event_video_SessionDuration_clean.grade)\n",
    "test_data = np.array(Test_user_event_video_SessionDuration.iloc[:, 1:9])\n",
    "\n",
    "preds_final = xgboost(train_data, train_label, test_data)\n",
    "\n",
    "\n",
    "#Output the prediction to csv\n",
    "result = pd.DataFrame(np.array(Test_user_event_video_SessionDuration.iloc[:,0]), columns = ['user_id'])\n",
    "result['grade'] = preds_final\n",
    "\n",
    "result.to_csv('result.csv')"
   ]
  }
 ],
 "metadata": {
  "kernelspec": {
   "display_name": "Python 2",
   "language": "python",
   "name": "python2"
  },
  "language_info": {
   "codemirror_mode": {
    "name": "ipython",
    "version": 2
   },
   "file_extension": ".py",
   "mimetype": "text/x-python",
   "name": "python",
   "nbconvert_exporter": "python",
   "pygments_lexer": "ipython2",
   "version": "2.7.10"
  }
 },
 "nbformat": 4,
 "nbformat_minor": 2
}
